{
 "cells": [
  {
   "cell_type": "code",
   "execution_count": 3,
   "metadata": {
    "collapsed": true
   },
   "outputs": [],
   "source": [
    "'''\n",
    "Notebook created by: Gabriele Sottocornola\n",
    "for the M.Sc. class of Data & Text Mining\n",
    "'''\n",
    "import pandas as pd\n",
    "from sklearn.metrics.pairwise import cosine_similarity\n",
    "from scipy.spatial.distance import cosine\n",
    "from scipy.stats import entropy"
   ]
  },
  {
   "cell_type": "code",
   "execution_count": 4,
   "metadata": {
    "collapsed": true
   },
   "outputs": [],
   "source": [
    "def read_topic_doc_distribution(doc_topic_path):\n",
    "    '''\n",
    "    Given the path for the doc-topic distribution file (MALLET output)\n",
    "    return a pandas Dataframe as a matrix of dimension num-doc x num-topic\n",
    "    '''\n",
    "    doc_topic_df = pd.read_csv(doc_topic_path, header=None, sep='\\t')\n",
    "    doc_topic_df.drop([1], axis=1, inplace=True)\n",
    "    doc_topic_df.rename(columns={0: 'doc_id'}, inplace=True)\n",
    "    doc_topic_df.set_index(['doc_id'], inplace=True)\n",
    "    return doc_topic_df"
   ]
  },
  {
   "cell_type": "code",
   "execution_count": 5,
   "metadata": {
    "collapsed": true
   },
   "outputs": [],
   "source": [
    "def compute_doc_cosine_similarity(doc_topic_df):\n",
    "    '''\n",
    "    Given a Dataframe with the doc-topic distribution\n",
    "    return a Dataframe with the similarity matrix for each document\n",
    "    '''\n",
    "    doc_id = doc_topic_df.index\n",
    "    doc_sim_matrix = cosine_similarity(doc_topic_df)\n",
    "    doc_sim_df = pd.DataFrame(doc_sim_matrix, index=doc_id, columns=doc_id)\n",
    "    return doc_sim_df"
   ]
  },
  {
   "cell_type": "code",
   "execution_count": 6,
   "metadata": {
    "collapsed": true
   },
   "outputs": [],
   "source": [
    "def compute_doc_vector_distance(doc_topic_df, distance='cosine'):\n",
    "    '''\n",
    "    Function to compute the distance of documents distribution (both cosine and SKL)\n",
    "    return a Dataframe with the distance matrix for each document\n",
    "    '''\n",
    "    doc_id = doc_topic_df.index\n",
    "    doc_dist_matrix = list()    \n",
    "    \n",
    "    for _, doc_distr1 in doc_topic_df.iterrows():\n",
    "        doc_dist_vector = list()\n",
    "        for _, doc_distr2 in doc_topic_df.iterrows():\n",
    "            if distance == 'cosine':\n",
    "                dist = compute_cosine_distance(doc_distr1, doc_distr2)\n",
    "            elif distance == 'skl':\n",
    "                dist = compute_skl_divergence(doc_distr1, doc_distr2)\n",
    "            doc_dist_vector.append(dist)\n",
    "        doc_dist_matrix.append(doc_dist_vector)\n",
    "        \n",
    "    doc_dist_df = pd.DataFrame(doc_dist_matrix, index=doc_id, columns=doc_id)\n",
    "    return doc_dist_df"
   ]
  },
  {
   "cell_type": "code",
   "execution_count": 7,
   "metadata": {
    "collapsed": true
   },
   "outputs": [],
   "source": [
    "def compute_skl_divergence(distr1, distr2):\n",
    "    return entropy(distr1, distr2) + entropy(distr2, distr1)"
   ]
  },
  {
   "cell_type": "code",
   "execution_count": 8,
   "metadata": {
    "collapsed": true
   },
   "outputs": [],
   "source": [
    "def compute_cosine_distance(distr1, distr2):\n",
    "    return cosine(distr1, distr2)"
   ]
  },
  {
   "cell_type": "code",
   "execution_count": 9,
   "metadata": {
    "collapsed": true
   },
   "outputs": [],
   "source": [
    "def retrieve_most_similar_doc(doc_sim_df, doc_id, k=5, distance=False):\n",
    "    '''\n",
    "    Fuction to compute the k most similar documents given a target doc_id and if the metric is a distance\n",
    "    return a Series indexed by doc_id with the similarity of the k most similar documents\n",
    "    '''\n",
    "    doc_sim_col = doc_sim_df[doc_id]\n",
    "    doc_sim_col_sorted = doc_sim_col.sort_values(ascending=distance)\n",
    "    return doc_sim_col_sorted[1:k+1]"
   ]
  },
  {
   "cell_type": "code",
   "execution_count": 10,
   "metadata": {
    "collapsed": true
   },
   "outputs": [],
   "source": [
    "###############################################################################################################################"
   ]
  },
  {
   "cell_type": "code",
   "execution_count": 49,
   "metadata": {
    "collapsed": false
   },
   "outputs": [],
   "source": [
    "#retrieve the n most similar documents given a query document\n",
    "n = 10\n",
    "query_doc = 1\n",
    "\n",
    "doc_topic_path = '.\\\\data\\\\AssociatedPressDocTopic.txt'\n",
    "doc_topic_df = read_topic_doc_distribution(doc_topic_path)\n",
    "doc_sim_df = compute_doc_cosine_similarity(doc_topic_df)"
   ]
  },
  {
   "cell_type": "code",
   "execution_count": 50,
   "metadata": {
    "collapsed": false
   },
   "outputs": [
    {
     "data": {
      "text/plain": [
       "doc_id\n",
       "1412    0.950715\n",
       "1699    0.942444\n",
       "2169    0.927611\n",
       "1615    0.892493\n",
       "1892    0.884509\n",
       "1582    0.883745\n",
       "443     0.882460\n",
       "216     0.875987\n",
       "650     0.870607\n",
       "958     0.868424\n",
       "Name: 1, dtype: float64"
      ]
     },
     "execution_count": 50,
     "metadata": {},
     "output_type": "execute_result"
    }
   ],
   "source": [
    "retrieve_most_similar_doc(doc_sim_df, query_doc, k=10)"
   ]
  },
  {
   "cell_type": "code",
   "execution_count": 51,
   "metadata": {
    "collapsed": false
   },
   "outputs": [
    {
     "data": {
      "text/plain": [
       "\"The Bechtel Group Inc. offered in 1985 to sell oil to Israel at a discount of at least $650 million for 10 years if it promised not to bomb a proposed Iraqi pipeline, a Foreign Ministry official said Wednesday. But then-Prime Minister Shimon Peres said the offer from Bruce Rappaport, a partner in the San Francisco-based construction and engineering company, was ``unimportant,'' the senior official told The Associated Press. Peres, now foreign minister, never discussed the offer with other government ministers, said the official, who spoke on condition of anonymity. The comments marked the first time Israel has acknowledged any offer was made for assurances not to bomb the planned $1 billion pipeline, which was to have run near Israel's border with Jordan. The pipeline was never built. In San Francisco, Tom Flynn, vice president for public relations for the Bechtel Group, said the company did not make any offer to Peres but that Rappaport, a Swiss financier, made it without Bechtel's knowledge or consent. Another Bechtel spokesman, Al Donner, said Bechtel ``at no point'' in development of the pipeline project had anything to do with the handling of the oil. He said proposals submitted by the company ``did not include any specific arrangements for the handling of the oil or for the disposal of the oil once it reached the terminal.'' Asked about Bechtel's disclaimers after they were made in San Francisco, the Israeli Foreign Ministry official said Peres believed Rappaport made the offer for the company. ``Rappaport came to Peres as a representative of Bechtel and said he was speaking on behalf of Bechtel,'' the official said. ``If he was not, he misrepresented himself.'' The Jerusalem Post on Wednesday quoted sources close to Peres as saying that according to Rappaport, Bechtel had said the oil sales would have to be conducted through a third party to keep the sales secret from Iraq and Jordan. The Foreign Ministry official said Peres did not take the offer seriously. ``This is a man who sees 10 people every day,'' he said. ``Thirty percent of them come with crazy ideas. He just says, `Yes, yes. We'll think about it.' That's how things work in Israel.'' The offer appeared to be the one mentioned in a September 1985 memo to Attorney General Edwin Meese III. The memo referred to an arrangement between Peres and Rappaport ``to the effect that Israel will receive somewhere between $65 million and $70 million a year for 10 years.'' The memo from Meese friend E. Robert Wallach, Rappaport's attorney, also states, ``What was also indicated to me, and which would be denied everywhere, is that a portion of those funds will go directly to Labor,'' a reference to the political party Peres leads. The Wallach memo has become the focus of an investigation into whether Meese knew of a possibly improper payment. Peres has denied any wrongdoing and has denounced the memo as ``complete nonsense.'' The Israeli official said Rappaport, a native of Israel and a close friend of Peres, relayed the offer to Peres earlier in September. ``Peres thought the offer was unimportant. For him, the most important thing was to have an Iraqi oil port near Israel's border,'' the official said. ``The thinking was that this would put Iraq in a position where it would not be able to wage war with Israel, out of concern for its pipeline.'' A person answering the telephone at Rappaport's Swiss residence said he was out of town and could not be reached for comment.\\n\""
      ]
     },
     "execution_count": 51,
     "metadata": {},
     "output_type": "execute_result"
    }
   ],
   "source": [
    "with open('.\\\\data\\\\AssociatedPress.txt', 'r') as corpus_f:\n",
    "    corpus_docs = corpus_f.readlines()\n",
    "corpus_docs[query_doc]"
   ]
  },
  {
   "cell_type": "code",
   "execution_count": 52,
   "metadata": {
    "collapsed": false
   },
   "outputs": [
    {
     "data": {
      "text/plain": [
       "\"A Soviet official said Monday that claims against Washington for delays in erecting the Soviet Embassy exceed the $29 million America is demanding for an unfinished, allegedly bugged U.S. Embassy building in Moscow. A Swedish official said Monday that the U.S. claim will go to an arbitration board in Stockholm which has quietly dealt with East-West disputes for 20 years. President Reagan said last Thursday he was recommending tearing down the main office building of the new U.S. Embassy compound in Moscow because the building was riddled with Soviet eavesdropping devices. His administration is not permitting the Soviets to occupy their new building in Washington while the status of the U.S. building remains unsettled. Soviet officials deny the U.S. Embassy building in Moscow is bugged, and on Monday, Foreign Ministry spokesman Gennady I. Gerasimov told a news conference: ``We also have bills to present to the American side.'' Gerasimov said claims for late delivery of construction materials and equipment and for other troubles would surpass the amount sought by Washington. In Stockholm, Ulf Franke, vice chairman of the Stockholm Chamber of Commerce, said, ``We have been informed by the United States that they are preparing an arbitration (case) here in Stockholm. The next step is to appoint the arbitrators.'' ``The case is well prepared and it might start any day.'' His organization is the parent body of the Arbitration Institute. Franke said the U.S. government invoked a clause in the 1977 building contract for the embassy construction in Moscow, in which either side can refer a dispute to the Stockholm institute. The ruling of the panel is binding. State Department spokeswoman Phyllis Oakley said in Washington that the U.S. claim against the Soviets is for damage and defective construction. No figure has been established for any bugging of the building. The State Department has said the building will be torn down and a new embassy will be contructed with U.S. workers and materials. Direct talks between the United States and Soviet Union have failed to settle the dispute. U.S. officials said last week they would ask outside arbiters to resolve it. Sweden's Arbitration Institute was founded 70 years ago and began dealing with international cases in the 1960s. Its reputation for secrecy has brought it a growing number of cases. The case will be heard by three arbitrators, one chosen by each side and a chairman picked by the board from a list of leading Swedish legal experts.\\n\""
      ]
     },
     "execution_count": 52,
     "metadata": {},
     "output_type": "execute_result"
    }
   ],
   "source": [
    "corpus_docs[1412]"
   ]
  },
  {
   "cell_type": "code",
   "execution_count": 53,
   "metadata": {
    "collapsed": false
   },
   "outputs": [
    {
     "name": "stdout",
     "output_type": "stream",
     "text": [
      "doc_id\n",
      "1412    0.550400\n",
      "1143    0.838971\n",
      "1930    0.867430\n",
      "1623    0.980738\n",
      "2169    1.039457\n",
      "133     1.053972\n",
      "1277    1.060152\n",
      "2207    1.097803\n",
      "1512    1.126759\n",
      "539     1.128581\n",
      "Name: 1, dtype: float64\n"
     ]
    }
   ],
   "source": [
    "doc_dist_df = compute_doc_vector_distance(doc_topic_df, distance='skl')\n",
    "print(retrieve_most_similar_doc(doc_dist_df, query_doc, n, distance=True))"
   ]
  },
  {
   "cell_type": "code",
   "execution_count": 16,
   "metadata": {
    "collapsed": true
   },
   "outputs": [],
   "source": [
    "##############################################################################################################################"
   ]
  },
  {
   "cell_type": "markdown",
   "metadata": {},
   "source": [
    "## Take-aways\n",
    "\n",
    "+ Topic models (i.e. LDA) provide powerful tools to represent documents in a lower dimensional space\n",
    "\n",
    "+ These functionalities take advantage of MALLET doc-topic distribution output to define similarity between documents\n",
    "\n",
    "+ Cosine similarity and Symmetrized Kullback-Liebler are useful to compute similarity/distance among probability distributions\n",
    "\n",
    "+ Similarity/distance measures can be exploited to retrieve similar documents to a query document"
   ]
  },
  {
   "cell_type": "code",
   "execution_count": null,
   "metadata": {
    "collapsed": true
   },
   "outputs": [],
   "source": []
  }
 ],
 "metadata": {
  "anaconda-cloud": {},
  "kernelspec": {
   "display_name": "Python [conda root]",
   "language": "python",
   "name": "conda-root-py"
  },
  "language_info": {
   "codemirror_mode": {
    "name": "ipython",
    "version": 3
   },
   "file_extension": ".py",
   "mimetype": "text/x-python",
   "name": "python",
   "nbconvert_exporter": "python",
   "pygments_lexer": "ipython3",
   "version": "3.5.2"
  }
 },
 "nbformat": 4,
 "nbformat_minor": 1
}
