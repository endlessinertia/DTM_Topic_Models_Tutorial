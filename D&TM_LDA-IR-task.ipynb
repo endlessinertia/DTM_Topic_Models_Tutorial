{
 "cells": [
  {
   "cell_type": "code",
   "execution_count": null,
   "metadata": {},
   "outputs": [],
   "source": [
    "'''\n",
    "Notebook created by: Gabriele Sottocornola\n",
    "for the M.Sc. class of Data & Text Mining\n",
    "\n",
    "Task: Build a toy information retrieval system given a list of query terms and \n",
    "based on topic modeling representation of target documents\n",
    "'''"
   ]
  },
  {
   "cell_type": "code",
   "execution_count": null,
   "metadata": {},
   "outputs": [],
   "source": [
    "import gensim\n",
    "import pandas as pd\n",
    "import numpy as np\n",
    "from sklearn.metrics.pairwise import cosine_similarity"
   ]
  },
  {
   "cell_type": "code",
   "execution_count": null,
   "metadata": {},
   "outputs": [],
   "source": [
    "def read_topic_doc_distribution(doc_topic_path):\n",
    "    doc_topic_df = pd.read_csv(doc_topic_path, header=None, sep='\\t')\n",
    "    doc_topic_df.drop([1], axis=1, inplace=True)\n",
    "    doc_topic_df.rename(columns={0: 'doc_id'}, inplace=True)\n",
    "    doc_topic_df.set_index(['doc_id'], inplace=True)\n",
    "    num_topic = len(doc_topic_df.columns)\n",
    "    doc_topic_df.columns = ['Topic{}'.format(n) for n in range(num_topic)]\n",
    "    return doc_topic_df"
   ]
  },
  {
   "cell_type": "code",
   "execution_count": null,
   "metadata": {},
   "outputs": [],
   "source": [
    "def get_topic_word_weights(word_weights_path, top_words=50):\n",
    "    ww_df = pd.read_csv(word_weights_path, sep='\\t', header=None)\n",
    "    ww_df.columns = ['topic_id', 'word', 'weight']\n",
    "    \n",
    "    top_ww_df_list = list()\n",
    "    topic_list = set(ww_df['topic_id'].tolist())\n",
    "    for topic in topic_list:\n",
    "        top_ww_df_list.append(ww_df[ww_df['topic_id'] == topic].head(top_words))\n",
    "    return pd.concat(top_ww_df_list)"
   ]
  },
  {
   "cell_type": "code",
   "execution_count": null,
   "metadata": {},
   "outputs": [],
   "source": [
    "def compute_doc_cosine_similarity(doc_topic_df):\n",
    "    doc_id = doc_topic_df.index\n",
    "    doc_sim_matrix = cosine_similarity(doc_topic_df)\n",
    "    doc_sim_df = pd.DataFrame(doc_sim_matrix, index=doc_id, columns=doc_id)\n",
    "    return doc_sim_df"
   ]
  },
  {
   "cell_type": "code",
   "execution_count": null,
   "metadata": {},
   "outputs": [],
   "source": [
    "def generate_topic_query_distribution(top_ww_df, query):\n",
    "    topic_list = set(top_ww_df['topic_id'].tolist())\n",
    "    query_topic_dict = {'Topic{}'.format(topic_id): 0.0 for topic_id in topic_list}\n",
    "    for qt in query:\n",
    "        query_df = top_ww_df[top_ww_df['word'] == qt]\n",
    "        print(query_df)\n",
    "        for _, row in query_df.iterrows():\n",
    "            query_topic_dict['Topic{}'.format(row['topic_id'])] += row['weight']\n",
    "    return query_topic_dict"
   ]
  },
  {
   "cell_type": "code",
   "execution_count": null,
   "metadata": {},
   "outputs": [],
   "source": [
    "def normalize_topic_query_distribution(query_topic_dict):\n",
    "    sum_weights = sum(query_topic_dict.values())\n",
    "    query_topic_dict = {topic: weight / sum_weights for topic, weight in query_topic_dict.items()}\n",
    "    return query_topic_dict"
   ]
  },
  {
   "cell_type": "code",
   "execution_count": null,
   "metadata": {},
   "outputs": [],
   "source": [
    "def retrieve_most_similar_doc(doc_sim_df, doc_id, k=5, distance=False):\n",
    "    doc_sim_col = doc_sim_df[doc_id]\n",
    "    doc_sim_col_sorted = doc_sim_col.sort_values(ascending=distance)\n",
    "    return doc_sim_col_sorted[1:k+1]"
   ]
  },
  {
   "cell_type": "code",
   "execution_count": null,
   "metadata": {},
   "outputs": [],
   "source": [
    "################################################################################################################"
   ]
  },
  {
   "cell_type": "code",
   "execution_count": null,
   "metadata": {},
   "outputs": [],
   "source": [
    "top_words_weight = 100\n",
    "query_terms = ['law', 'flight', 'money']\n",
    "word_weights_path = './mallet_output/AssociatedPress_10topics_wordweights.txt'\n",
    "doc_topic_path = './mallet_output/AssociatedPress_10topics_doctopics.txt'"
   ]
  },
  {
   "cell_type": "code",
   "execution_count": null,
   "metadata": {},
   "outputs": [],
   "source": [
    "top_ww_df = get_topic_word_weights(word_weights_path, top_words=top_words_weight)\n",
    "top_ww_df"
   ]
  },
  {
   "cell_type": "code",
   "execution_count": null,
   "metadata": {},
   "outputs": [],
   "source": [
    "query_topic_dict = normalize_topic_query_distribution(generate_topic_query_distribution(top_ww_df, query_terms))\n",
    "query_topic_dict"
   ]
  },
  {
   "cell_type": "code",
   "execution_count": null,
   "metadata": {},
   "outputs": [],
   "source": [
    "doc_topic_df = read_topic_doc_distribution(doc_topic_path)\n",
    "query_topic_df = pd.DataFrame(query_topic_dict, index=[-1])\n",
    "doc_topic_df = doc_topic_df.append(query_topic_df)\n",
    "doc_sim_df = compute_doc_cosine_similarity(doc_topic_df)"
   ]
  },
  {
   "cell_type": "code",
   "execution_count": null,
   "metadata": {},
   "outputs": [],
   "source": [
    "doc_sim_df"
   ]
  },
  {
   "cell_type": "code",
   "execution_count": null,
   "metadata": {},
   "outputs": [],
   "source": [
    "retrieved_docs_series = retrieve_most_similar_doc(doc_sim_df, -1)\n",
    "retrieved_docs_series"
   ]
  },
  {
   "cell_type": "code",
   "execution_count": null,
   "metadata": {},
   "outputs": [],
   "source": [
    "with open('./data/AssociatedPress.txt', 'r') as corpus_f:\n",
    "    corpus_docs = corpus_f.readlines()\n",
    "\n",
    "for doc_id in retrieved_docs_series.index:\n",
    "    print(doc_id)\n",
    "    print(corpus_docs[doc_id])"
   ]
  },
  {
   "cell_type": "code",
   "execution_count": null,
   "metadata": {},
   "outputs": [],
   "source": []
  }
 ],
 "metadata": {
  "kernelspec": {
   "display_name": "Python 3",
   "language": "python",
   "name": "python3"
  },
  "language_info": {
   "codemirror_mode": {
    "name": "ipython",
    "version": 3
   },
   "file_extension": ".py",
   "mimetype": "text/x-python",
   "name": "python",
   "nbconvert_exporter": "python",
   "pygments_lexer": "ipython3",
   "version": "3.7.3"
  }
 },
 "nbformat": 4,
 "nbformat_minor": 2
}
